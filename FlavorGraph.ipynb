{
  "nbformat": 4,
  "nbformat_minor": 0,
  "metadata": {
    "colab": {
      "name": "FlavorGraph.ipynb",
      "provenance": [],
      "collapsed_sections": [],
      "toc_visible": true,
      "authorship_tag": "ABX9TyNAd5Kz8XQcPs75gxy319Ek",
      "include_colab_link": true
    },
    "kernelspec": {
      "name": "python3",
      "display_name": "Python 3"
    },
    "accelerator": "GPU"
  },
  "cells": [
    {
      "cell_type": "markdown",
      "metadata": {
        "id": "view-in-github",
        "colab_type": "text"
      },
      "source": [
        "<a href=\"https://colab.research.google.com/github/warcraft12321/FoodReco/blob/master/FlavorGraph.ipynb\" target=\"_parent\"><img src=\"https://colab.research.google.com/assets/colab-badge.svg\" alt=\"Open In Colab\"/></a>"
      ]
    },
    {
      "cell_type": "markdown",
      "metadata": {
        "id": "04PVkB5Abxxe"
      },
      "source": [
        "# Pulling FlavorGraph"
      ]
    },
    {
      "cell_type": "code",
      "metadata": {
        "colab": {
          "base_uri": "https://localhost:8080/"
        },
        "id": "Et6NCUTFTe3C",
        "outputId": "a4602eb3-20b6-491d-a60a-9adaf5ae79a3"
      },
      "source": [
        "# Pulling FlavorGraph\n",
        "!git init\n",
        "!git pull https://github.com/lamypark/FlavorGraph.git master\n",
        "\n",
        "# Checking GPU is Present\n",
        "!nvcc -V\n",
        "\n",
        "# Installing Additional Colab Requirements\n",
        "!pip install -r requirements.txt\n",
        "\n",
        "# Training Flavor2Vec\n",
        "!python3 src/main.py --CSP_train --CSP_save"
      ],
      "execution_count": null,
      "outputs": [
        {
          "output_type": "stream",
          "text": [
            "Reinitialized existing Git repository in /content/.git/\n",
            "From https://github.com/lamypark/FlavorGraph\n",
            " * branch            master     -> FETCH_HEAD\n",
            "Already up to date.\n",
            "nvcc: NVIDIA (R) Cuda compiler driver\n",
            "Copyright (c) 2005-2019 NVIDIA Corporation\n",
            "Built on Sun_Jul_28_19:07:16_PDT_2019\n",
            "Cuda compilation tools, release 10.1, V10.1.243\n",
            "Collecting texttable\n",
            "  Using cached https://files.pythonhosted.org/packages/06/f5/46201c428aebe0eecfa83df66bf3e6caa29659dbac5a56ddfd83cae0d4a4/texttable-1.6.3-py2.py3-none-any.whl\n",
            "Collecting chart_studio\n",
            "  Using cached https://files.pythonhosted.org/packages/ca/ce/330794a6b6ca4b9182c38fc69dd2a9cbff60fd49421cb8648ee5fee352dc/chart_studio-1.1.0-py3-none-any.whl\n",
            "Requirement already satisfied: requests in /usr/local/lib/python3.7/dist-packages (from chart_studio->-r requirements.txt (line 2)) (2.23.0)\n",
            "Requirement already satisfied: retrying>=1.3.3 in /usr/local/lib/python3.7/dist-packages (from chart_studio->-r requirements.txt (line 2)) (1.3.3)\n",
            "Requirement already satisfied: six in /usr/local/lib/python3.7/dist-packages (from chart_studio->-r requirements.txt (line 2)) (1.15.0)\n",
            "Requirement already satisfied: plotly in /usr/local/lib/python3.7/dist-packages (from chart_studio->-r requirements.txt (line 2)) (4.4.1)\n",
            "Requirement already satisfied: idna<3,>=2.5 in /usr/local/lib/python3.7/dist-packages (from requests->chart_studio->-r requirements.txt (line 2)) (2.10)\n",
            "Requirement already satisfied: urllib3!=1.25.0,!=1.25.1,<1.26,>=1.21.1 in /usr/local/lib/python3.7/dist-packages (from requests->chart_studio->-r requirements.txt (line 2)) (1.24.3)\n",
            "Requirement already satisfied: chardet<4,>=3.0.2 in /usr/local/lib/python3.7/dist-packages (from requests->chart_studio->-r requirements.txt (line 2)) (3.0.4)\n",
            "Requirement already satisfied: certifi>=2017.4.17 in /usr/local/lib/python3.7/dist-packages (from requests->chart_studio->-r requirements.txt (line 2)) (2020.12.5)\n",
            "Installing collected packages: texttable, chart-studio\n",
            "Successfully installed chart-studio-1.1.0 texttable-1.6.3\n",
            "+-----------------+--------------------------+\n",
            "|    Parameter    |          Value           |\n",
            "+=================+==========================+\n",
            "| Csp coef        | 0.000                    |\n",
            "+-----------------+--------------------------+\n",
            "| Csp save        | 1                        |\n",
            "+-----------------+--------------------------+\n",
            "| Csp train       | 1                        |\n",
            "+-----------------+--------------------------+\n",
            "| Batch size      | 128                      |\n",
            "+-----------------+--------------------------+\n",
            "| Care type       | 0                        |\n",
            "+-----------------+--------------------------+\n",
            "| Dim             | 300                      |\n",
            "+-----------------+--------------------------+\n",
            "| Idx embed       | FlavorGraph+CSL          |\n",
            "+-----------------+--------------------------+\n",
            "| Idx metapath    | M11                      |\n",
            "+-----------------+--------------------------+\n",
            "| Initial lr      | 0.003                    |\n",
            "+-----------------+--------------------------+\n",
            "| Input edges     | ./input/edges_191120.csv |\n",
            "+-----------------+--------------------------+\n",
            "| Input nodes     | ./input/nodes_191120.csv |\n",
            "+-----------------+--------------------------+\n",
            "| Input path      | ./input/paths/           |\n",
            "+-----------------+--------------------------+\n",
            "| Iterations      | 10                       |\n",
            "+-----------------+--------------------------+\n",
            "| Len metapath    | 50                       |\n",
            "+-----------------+--------------------------+\n",
            "| Min count       | 5                        |\n",
            "+-----------------+--------------------------+\n",
            "| Num walks       | 100                      |\n",
            "+-----------------+--------------------------+\n",
            "| Num workers     | 16                       |\n",
            "+-----------------+--------------------------+\n",
            "| Number of walks | 100                      |\n",
            "+-----------------+--------------------------+\n",
            "| Output path     | ./output/                |\n",
            "+-----------------+--------------------------+\n",
            "| Seed            | 42                       |\n",
            "+-----------------+--------------------------+\n",
            "| Walk length     | 50                       |\n",
            "+-----------------+--------------------------+\n",
            "| Which metapath  | CHC+CHNHC+NHCHN          |\n",
            "+-----------------+--------------------------+\n",
            "| Window size     | 3                        |\n",
            "+-----------------+--------------------------+\n",
            "\n",
            "\n",
            "##########################################################################\n",
            "### Creating Graphs...\n",
            "Nodes Loaded..../input/nodes_191120.csv...\n",
            "100% 8298/8298 [00:00<00:00, 16379.65it/s]\n",
            "Edges Loaded..../input/edges_191120.csv...\n",
            "100% 147179/147179 [00:09<00:00, 15656.61it/s]\n",
            "\n",
            "The whole graph - ingredients, food-like compounds, drug-like compounds\n",
            "# of nodes in graph: 8298\n",
            "# of edges in graph: 147179\n",
            "Traceback (most recent call last):\n",
            "  File \"src/main.py\", line 52, in <module>\n",
            "    main()\n",
            "  File \"src/main.py\", line 38, in main\n",
            "    metapath2vec = Metapath2Vec(args, graph)\n",
            "  File \"/content/src/graph2vec.py\", line 22, in __init__\n",
            "    files = os.listdir(args.input_path)\n",
            "FileNotFoundError: [Errno 2] No such file or directory: './input/paths/'\n"
          ],
          "name": "stdout"
        }
      ]
    },
    {
      "cell_type": "code",
      "metadata": {
        "id": "qe_op955V4Wq"
      },
      "source": [
        "import pickle\n",
        "\n",
        "with open('./output/FlavorGraph+CSL-embedding_M11-metapath_300-dim_0.0025-initial_lr_3-window_size_10-iterations_5-min_count-_True-isCSP_0.0001-CSPcoef_CSPLayer.pickle', 'rb') as f:\n",
        "    data = pickle.load(f)"
      ],
      "execution_count": null,
      "outputs": []
    },
    {
      "cell_type": "code",
      "metadata": {
        "colab": {
          "base_uri": "https://localhost:8080/"
        },
        "id": "d81MlFtfo5Mx",
        "outputId": "70ab83c0-149c-4552-cf07-93b623391fd2"
      },
      "source": [
        "print(data)"
      ],
      "execution_count": null,
      "outputs": [
        {
          "output_type": "stream",
          "text": [
            "IOPub data rate exceeded.\n",
            "The notebook server will temporarily stop sending output\n",
            "to the client in order to avoid crashing it.\n",
            "To change this limit, set the config variable\n",
            "`--NotebookApp.iopub_data_rate_limit`.\n",
            "\n",
            "Current values:\n",
            "NotebookApp.iopub_data_rate_limit=1000000.0 (bytes/sec)\n",
            "NotebookApp.rate_limit_window=3.0 (secs)\n",
            "\n"
          ],
          "name": "stderr"
        }
      ]
    },
    {
      "cell_type": "markdown",
      "metadata": {
        "id": "DxIOp-q0c9_L"
      },
      "source": [
        "# Additional Results"
      ]
    },
    {
      "cell_type": "markdown",
      "metadata": {
        "id": "pizuawrCdB7x"
      },
      "source": [
        "## Table 1 - Normalized "
      ]
    },
    {
      "cell_type": "code",
      "metadata": {
        "id": "KLJRB7lmdMjm",
        "colab": {
          "base_uri": "https://localhost:8080/",
          "height": 502
        },
        "outputId": "b92204b0-67fb-4d09-ad3e-1ffed978434f"
      },
      "source": [
        "from IPython.display import HTML, display\n",
        "import tabulate\n",
        "table = [[\"Ingredient 1\",'Ingredient 2', 'Co-occur Prob.', 'Chemical overlap', 'Normalized Chemical overlap'],\n",
        "         \n",
        "         [\"Recipe co-occur. ranking\",'','','',''],\n",
        "\n",
        "         [\"bamboo_shoot\",'water_chestnut',0.532,94,0.92],\n",
        "         [\"Parsnip\",'Turnip',0.524,101,0.75],\n",
        "         [\"Oregano\",'Basil',0.515,159,0.69],\n",
        "         [\"Raspberry\",'Blackberry',0.503,116,0.52],\n",
        "         [\"Nutmeg\",'Cinnamon',0.472,139,0.65],\n",
        "         [\"Miso\",'Sake',0.507,4,0.10],\n",
        "         [\"Anchovy\",'Caper',0.415,2,0.02],\n",
        "         [\"Saffron\",'basmati_rice',0.394,6,0.04],\n",
        "         [\"ham\",'swiss_cheese',0.349,2,0.01],\n",
        "         [\"tortilla_chip\",'Avocado',0.317,5,0.04],\n",
        "\n",
        "         [\"Chemical overlap ranking\",'','','',''],\n",
        "         [\"Apple\",'Strawberry',0.021,189,0.51],\n",
        "         [\"Bean\",'green_bean',0.117,178,0.94],\n",
        "         [\"Banana\",'Apple',0.090,173,0.52],\n",
        "         [\"Pineapple\",'Apple',0.081,169,0.48],\n",
        "         [\"Apricot\",'Apple',0.069,169,0.50],\n",
        "         [\"Cocoa\",'Apple',-0.178,167,0.39],\n",
        "         [\"Orange\",'mandarin_orange',0.054,166,0.63],\n",
        "         [\"Papaya\",'Apple',-0.049,165,0.44],\n",
        "         [\"Ginger\",'Pepper',-0.026,164,0.53],\n",
        "         [\"Lemon\",'mandarin_orange',-0.066,164,0.77]]\n",
        "\n",
        "display(HTML(tabulate.tabulate(table, tablefmt='html')))"
      ],
      "execution_count": 8,
      "outputs": [
        {
          "output_type": "display_data",
          "data": {
            "text/html": [
              "<table>\n",
              "<tbody>\n",
              "<tr><td>Ingredient 1            </td><td>Ingredient 2   </td><td>Co-occur Prob.</td><td>Chemical overlap</td><td>Normalized Chemical overlap</td></tr>\n",
              "<tr><td>Recipe co-occur. ranking</td><td>               </td><td>              </td><td>                </td><td>                           </td></tr>\n",
              "<tr><td>bamboo_shoot            </td><td>water_chestnut </td><td>0.532         </td><td>94              </td><td>0.92                       </td></tr>\n",
              "<tr><td>Parsnip                 </td><td>Turnip         </td><td>0.524         </td><td>101             </td><td>0.75                       </td></tr>\n",
              "<tr><td>Oregano                 </td><td>Basil          </td><td>0.515         </td><td>159             </td><td>0.69                       </td></tr>\n",
              "<tr><td>Raspberry               </td><td>Blackberry     </td><td>0.503         </td><td>116             </td><td>0.52                       </td></tr>\n",
              "<tr><td>Nutmeg                  </td><td>Cinnamon       </td><td>0.472         </td><td>139             </td><td>0.65                       </td></tr>\n",
              "<tr><td>Miso                    </td><td>Sake           </td><td>0.507         </td><td>4               </td><td>0.1                        </td></tr>\n",
              "<tr><td>Anchovy                 </td><td>Caper          </td><td>0.415         </td><td>2               </td><td>0.02                       </td></tr>\n",
              "<tr><td>Saffron                 </td><td>basmati_rice   </td><td>0.394         </td><td>6               </td><td>0.04                       </td></tr>\n",
              "<tr><td>ham                     </td><td>swiss_cheese   </td><td>0.349         </td><td>2               </td><td>0.01                       </td></tr>\n",
              "<tr><td>tortilla_chip           </td><td>Avocado        </td><td>0.317         </td><td>5               </td><td>0.04                       </td></tr>\n",
              "<tr><td>Chemical overlap ranking</td><td>               </td><td>              </td><td>                </td><td>                           </td></tr>\n",
              "<tr><td>Apple                   </td><td>Strawberry     </td><td>0.021         </td><td>189             </td><td>0.51                       </td></tr>\n",
              "<tr><td>Bean                    </td><td>green_bean     </td><td>0.117         </td><td>178             </td><td>0.94                       </td></tr>\n",
              "<tr><td>Banana                  </td><td>Apple          </td><td>0.09          </td><td>173             </td><td>0.52                       </td></tr>\n",
              "<tr><td>Pineapple               </td><td>Apple          </td><td>0.081         </td><td>169             </td><td>0.48                       </td></tr>\n",
              "<tr><td>Apricot                 </td><td>Apple          </td><td>0.069         </td><td>169             </td><td>0.5                        </td></tr>\n",
              "<tr><td>Cocoa                   </td><td>Apple          </td><td>-0.178        </td><td>167             </td><td>0.39                       </td></tr>\n",
              "<tr><td>Orange                  </td><td>mandarin_orange</td><td>0.054         </td><td>166             </td><td>0.63                       </td></tr>\n",
              "<tr><td>Papaya                  </td><td>Apple          </td><td>-0.049        </td><td>165             </td><td>0.44                       </td></tr>\n",
              "<tr><td>Ginger                  </td><td>Pepper         </td><td>-0.026        </td><td>164             </td><td>0.53                       </td></tr>\n",
              "<tr><td>Lemon                   </td><td>mandarin_orange</td><td>-0.066        </td><td>164             </td><td>0.77                       </td></tr>\n",
              "</tbody>\n",
              "</table>"
            ],
            "text/plain": [
              "<IPython.core.display.HTML object>"
            ]
          },
          "metadata": {
            "tags": []
          }
        }
      ]
    },
    {
      "cell_type": "markdown",
      "metadata": {
        "id": "CCdxD87bcEzx"
      },
      "source": [
        "# Covid-19 Repurpose"
      ]
    },
    {
      "cell_type": "code",
      "metadata": {
        "id": "84TFlYzMc7w3"
      },
      "source": [
        ""
      ],
      "execution_count": null,
      "outputs": []
    }
  ]
}