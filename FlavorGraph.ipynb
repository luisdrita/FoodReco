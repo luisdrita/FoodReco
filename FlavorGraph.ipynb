{
  "nbformat": 4,
  "nbformat_minor": 0,
  "metadata": {
    "colab": {
      "name": "FlavorGraph.ipynb",
      "provenance": [],
      "collapsed_sections": [],
      "authorship_tag": "ABX9TyPMxue/GGhgah3L4HEVrYuO",
      "include_colab_link": true
    },
    "kernelspec": {
      "name": "python3",
      "display_name": "Python 3"
    },
    "accelerator": "GPU"
  },
  "cells": [
    {
      "cell_type": "markdown",
      "metadata": {
        "id": "view-in-github",
        "colab_type": "text"
      },
      "source": [
        "<a href=\"https://colab.research.google.com/github/warcraft12321/FoodReco/blob/master/FlavorGraph.ipynb\" target=\"_parent\"><img src=\"https://colab.research.google.com/assets/colab-badge.svg\" alt=\"Open In Colab\"/></a>"
      ]
    },
    {
      "cell_type": "code",
      "metadata": {
        "colab": {
          "base_uri": "https://localhost:8080/"
        },
        "id": "Et6NCUTFTe3C",
        "outputId": "7885aceb-9559-46a2-cdb8-a6a0a906fc11"
      },
      "source": [
        "!git init"
      ],
      "execution_count": 2,
      "outputs": [
        {
          "output_type": "stream",
          "text": [
            "Initialized empty Git repository in /content/.git/\n"
          ],
          "name": "stdout"
        }
      ]
    },
    {
      "cell_type": "code",
      "metadata": {
        "colab": {
          "base_uri": "https://localhost:8080/"
        },
        "id": "VwrIsS6YTj6y",
        "outputId": "f0d7c02a-5093-485e-d46d-dee963adbd92"
      },
      "source": [
        "!git pull https://github.com/lamypark/FlavorGraph.git master"
      ],
      "execution_count": 3,
      "outputs": [
        {
          "output_type": "stream",
          "text": [
            "remote: Enumerating objects: 286, done.\u001b[K\n",
            "remote: Counting objects: 100% (286/286), done.\u001b[K\n",
            "remote: Compressing objects: 100% (204/204), done.\u001b[K\n",
            "remote: Total 286 (delta 182), reused 166 (delta 79), pack-reused 0\u001b[K\n",
            "Receiving objects: 100% (286/286), 17.72 MiB | 16.52 MiB/s, done.\n",
            "Resolving deltas: 100% (182/182), done.\n",
            "From https://github.com/lamypark/FlavorGraph\n",
            " * branch            master     -> FETCH_HEAD\n"
          ],
          "name": "stdout"
        }
      ]
    },
    {
      "cell_type": "code",
      "metadata": {
        "colab": {
          "base_uri": "https://localhost:8080/"
        },
        "id": "B12r205nTony",
        "outputId": "96b8218b-c35a-4d30-9c02-03066e63cf7d"
      },
      "source": [
        "!nvcc -V"
      ],
      "execution_count": 5,
      "outputs": [
        {
          "output_type": "stream",
          "text": [
            "nvcc: NVIDIA (R) Cuda compiler driver\n",
            "Copyright (c) 2005-2019 NVIDIA Corporation\n",
            "Built on Sun_Jul_28_19:07:16_PDT_2019\n",
            "Cuda compilation tools, release 10.1, V10.1.243\n"
          ],
          "name": "stdout"
        }
      ]
    },
    {
      "cell_type": "code",
      "metadata": {
        "colab": {
          "base_uri": "https://localhost:8080/"
        },
        "id": "R7ZUzRPyTxSZ",
        "outputId": "14731120-e399-4d68-e1d5-22900bdcb374"
      },
      "source": [
        "!python3 src/main.py --CSP_train --CSP_save"
      ],
      "execution_count": 6,
      "outputs": [
        {
          "output_type": "stream",
          "text": [
            "Traceback (most recent call last):\n",
            "  File \"src/main.py\", line 4, in <module>\n",
            "    from utils import tab_printer, graph_reader, evaluate\n",
            "  File \"/content/src/utils.py\", line 6, in <module>\n",
            "    from texttable import Texttable\n",
            "ModuleNotFoundError: No module named 'texttable'\n"
          ],
          "name": "stdout"
        }
      ]
    },
    {
      "cell_type": "code",
      "metadata": {
        "colab": {
          "base_uri": "https://localhost:8080/"
        },
        "id": "9moUKMT0UVHI",
        "outputId": "a2745e8f-eb4b-4301-c5ad-1d8f53edaa6a"
      },
      "source": [
        "!pip install -r requirements.txt"
      ],
      "execution_count": 8,
      "outputs": [
        {
          "output_type": "stream",
          "text": [
            "Collecting texttable\n",
            "  Downloading https://files.pythonhosted.org/packages/06/f5/46201c428aebe0eecfa83df66bf3e6caa29659dbac5a56ddfd83cae0d4a4/texttable-1.6.3-py2.py3-none-any.whl\n",
            "Collecting chart_studio\n",
            "\u001b[?25l  Downloading https://files.pythonhosted.org/packages/ca/ce/330794a6b6ca4b9182c38fc69dd2a9cbff60fd49421cb8648ee5fee352dc/chart_studio-1.1.0-py3-none-any.whl (64kB)\n",
            "\r\u001b[K     |█████                           | 10kB 23.2MB/s eta 0:00:01\r\u001b[K     |██████████▏                     | 20kB 11.9MB/s eta 0:00:01\r\u001b[K     |███████████████▎                | 30kB 10.2MB/s eta 0:00:01\r\u001b[K     |████████████████████▍           | 40kB 11.3MB/s eta 0:00:01\r\u001b[K     |█████████████████████████▍      | 51kB 7.0MB/s eta 0:00:01\r\u001b[K     |██████████████████████████████▌ | 61kB 7.6MB/s eta 0:00:01\r\u001b[K     |████████████████████████████████| 71kB 5.5MB/s \n",
            "\u001b[?25hRequirement already satisfied: retrying>=1.3.3 in /usr/local/lib/python3.7/dist-packages (from chart_studio->-r requirements.txt (line 2)) (1.3.3)\n",
            "Requirement already satisfied: plotly in /usr/local/lib/python3.7/dist-packages (from chart_studio->-r requirements.txt (line 2)) (4.4.1)\n",
            "Requirement already satisfied: requests in /usr/local/lib/python3.7/dist-packages (from chart_studio->-r requirements.txt (line 2)) (2.23.0)\n",
            "Requirement already satisfied: six in /usr/local/lib/python3.7/dist-packages (from chart_studio->-r requirements.txt (line 2)) (1.15.0)\n",
            "Requirement already satisfied: certifi>=2017.4.17 in /usr/local/lib/python3.7/dist-packages (from requests->chart_studio->-r requirements.txt (line 2)) (2020.12.5)\n",
            "Requirement already satisfied: chardet<4,>=3.0.2 in /usr/local/lib/python3.7/dist-packages (from requests->chart_studio->-r requirements.txt (line 2)) (3.0.4)\n",
            "Requirement already satisfied: idna<3,>=2.5 in /usr/local/lib/python3.7/dist-packages (from requests->chart_studio->-r requirements.txt (line 2)) (2.10)\n",
            "Requirement already satisfied: urllib3!=1.25.0,!=1.25.1,<1.26,>=1.21.1 in /usr/local/lib/python3.7/dist-packages (from requests->chart_studio->-r requirements.txt (line 2)) (1.24.3)\n",
            "Installing collected packages: texttable, chart-studio\n",
            "Successfully installed chart-studio-1.1.0 texttable-1.6.3\n"
          ],
          "name": "stdout"
        }
      ]
    },
    {
      "cell_type": "code",
      "metadata": {
        "colab": {
          "base_uri": "https://localhost:8080/"
        },
        "id": "HhNAVaTUUhTS",
        "outputId": "88897653-e598-40b7-cbbe-d18ddf13f8cb"
      },
      "source": [
        "!python3 src/main.py --CSP_train --CSP_save"
      ],
      "execution_count": 10,
      "outputs": [
        {
          "output_type": "stream",
          "text": [
            "+-----------------+--------------------------+\n",
            "|    Parameter    |          Value           |\n",
            "+=================+==========================+\n",
            "| Csp coef        | 0.000                    |\n",
            "+-----------------+--------------------------+\n",
            "| Csp save        | 1                        |\n",
            "+-----------------+--------------------------+\n",
            "| Csp train       | 1                        |\n",
            "+-----------------+--------------------------+\n",
            "| Batch size      | 128                      |\n",
            "+-----------------+--------------------------+\n",
            "| Care type       | 0                        |\n",
            "+-----------------+--------------------------+\n",
            "| Dim             | 300                      |\n",
            "+-----------------+--------------------------+\n",
            "| Idx embed       | FlavorGraph+CSL          |\n",
            "+-----------------+--------------------------+\n",
            "| Idx metapath    | M11                      |\n",
            "+-----------------+--------------------------+\n",
            "| Initial lr      | 0.003                    |\n",
            "+-----------------+--------------------------+\n",
            "| Input edges     | ./input/edges_191120.csv |\n",
            "+-----------------+--------------------------+\n",
            "| Input nodes     | ./input/nodes_191120.csv |\n",
            "+-----------------+--------------------------+\n",
            "| Input path      | ./input/paths/           |\n",
            "+-----------------+--------------------------+\n",
            "| Iterations      | 10                       |\n",
            "+-----------------+--------------------------+\n",
            "| Len metapath    | 50                       |\n",
            "+-----------------+--------------------------+\n",
            "| Min count       | 5                        |\n",
            "+-----------------+--------------------------+\n",
            "| Num walks       | 100                      |\n",
            "+-----------------+--------------------------+\n",
            "| Num workers     | 16                       |\n",
            "+-----------------+--------------------------+\n",
            "| Number of walks | 100                      |\n",
            "+-----------------+--------------------------+\n",
            "| Output path     | ./output/                |\n",
            "+-----------------+--------------------------+\n",
            "| Seed            | 42                       |\n",
            "+-----------------+--------------------------+\n",
            "| Walk length     | 50                       |\n",
            "+-----------------+--------------------------+\n",
            "| Which metapath  | CHC+CHNHC+NHCHN          |\n",
            "+-----------------+--------------------------+\n",
            "| Window size     | 3                        |\n",
            "+-----------------+--------------------------+\n",
            "\n",
            "\n",
            "##########################################################################\n",
            "### Creating Graphs...\n",
            "Nodes Loaded..../input/nodes_191120.csv...\n",
            "100% 8298/8298 [00:00<00:00, 15227.29it/s]\n",
            "Edges Loaded..../input/edges_191120.csv...\n",
            "100% 147179/147179 [00:10<00:00, 14654.70it/s]\n",
            "\n",
            "The whole graph - ingredients, food-like compounds, drug-like compounds\n",
            "# of nodes in graph: 8298\n",
            "# of edges in graph: 147179\n",
            "\n",
            " !!! Found the file that you have specified...\n",
            "### Metapaths Loaded... ./input/paths/M11-metapath_CHC+CHNHC+NHCHN-whichmeta_100-num_walks_50-len_metapath.txt\n",
            "\n",
            "\n",
            "##########################################################################\n",
            "### Metapaths to DataLoader... ./input/paths/M11-metapath_CHC+CHNHC+NHCHN-whichmeta_100-num_walks_50-len_metapath.txt\n",
            "Read 1000000 words.\n",
            "Read 2000000 words.\n",
            "Total embeddings: 8249\n",
            "\n",
            "\n",
            "#####################################\n",
            "### SkipGram with CSP\n",
            "\n",
            "Model Name: \"u_embeddings\"\n",
            "Embedding(8249, 300, sparse=True)\n",
            "The number of parameters: 2474700\n",
            "\n",
            "Model Name: \"v_embeddings\"\n",
            "Embedding(8249, 300, sparse=True)\n",
            "The number of parameters: 2474700\n",
            "Loading Chemical Vectors from  ./input/node2fp_revised_1120.pickle\n",
            "Number of Binary Vectors Available:  8298\n",
            "Number of Nodes in Graph:  8249\n",
            "\n",
            "Model Name: \"u_embeddings\"\n",
            "Embedding(8249, 300)\n",
            "The number of parameters: 2474700\n",
            "\n",
            "Model Name: \"encoder\"\n",
            "Linear(in_features=300, out_features=881, bias=True)\n",
            "The number of parameters: 265181\n",
            "\n",
            "Model Name: \"a_embeddings\"\n",
            "Embedding(8249, 881)\n",
            "The number of parameters: 7267369\n",
            "\n",
            "\n",
            "\n",
            "Iteration: 1\n",
            "  0% 0/429 [00:00<?, ?it/s]/usr/local/lib/python3.7/dist-packages/torch/optim/lr_scheduler.py:136: UserWarning:\n",
            "\n",
            "Detected call of `lr_scheduler.step()` before `optimizer.step()`. In PyTorch 1.1.0 and later, you should call them in the opposite order: `optimizer.step()` before `lr_scheduler.step()`.  Failure to do this will result in PyTorch skipping the first value of the learning rate schedule. See more details at https://pytorch.org/docs/stable/optim.html#how-to-adjust-learning-rate\n",
            "\n",
            "/content/src/model.py:140: UserWarning:\n",
            "\n",
            "This overload of nonzero is deprecated:\n",
            "\tnonzero()\n",
            "Consider using one of the following signatures instead:\n",
            "\tnonzero(*, bool as_tuple) (Triggered internally at  /pytorch/torch/csrc/utils/python_arg_parser.cpp:882.)\n",
            "\n",
            "100% 429/429 [00:49<00:00,  8.74it/s]\n",
            " Loss: 2.57975475556991\n",
            " Auxiliary Loss: 0.6934006810188293\n",
            "\n",
            "\n",
            "\n",
            "Iteration: 2\n",
            "100% 429/429 [00:52<00:00,  8.18it/s]\n",
            " Loss: 2.4516815393985016\n",
            " Auxiliary Loss: 0.6933097839355469\n",
            "\n",
            "\n",
            "\n",
            "Iteration: 3\n",
            "100% 429/429 [00:53<00:00,  8.04it/s]\n",
            " Loss: 2.408836241227613\n",
            " Auxiliary Loss: 0.6932927370071411\n",
            "\n",
            "\n",
            "\n",
            "Iteration: 4\n",
            "100% 429/429 [00:55<00:00,  7.79it/s]\n",
            " Loss: 2.393384804244869\n",
            " Auxiliary Loss: 0.6931908130645752\n",
            "\n",
            "\n",
            "\n",
            "Iteration: 5\n",
            "100% 429/429 [00:52<00:00,  8.12it/s]\n",
            " Loss: 2.375349045278672\n",
            " Auxiliary Loss: 0.6933234333992004\n",
            "\n",
            "\n",
            "\n",
            "Iteration: 6\n",
            "100% 429/429 [00:52<00:00,  8.13it/s]\n",
            " Loss: 2.353870479143619\n",
            " Auxiliary Loss: 0.6934617161750793\n",
            "\n",
            "\n",
            "\n",
            "Iteration: 7\n",
            "100% 429/429 [00:53<00:00,  8.08it/s]\n",
            " Loss: 2.344864430540642\n",
            " Auxiliary Loss: 0.6934558749198914\n",
            "\n",
            "\n",
            "\n",
            "Iteration: 8\n",
            "100% 429/429 [00:53<00:00,  8.09it/s]\n",
            " Loss: 2.330266685008184\n",
            " Auxiliary Loss: 0.6932962536811829\n",
            "\n",
            "\n",
            "\n",
            "Iteration: 9\n",
            "100% 429/429 [00:52<00:00,  8.11it/s]\n",
            " Loss: 2.3154946305145656\n",
            " Auxiliary Loss: 0.6933748722076416\n",
            "\n",
            "\n",
            "\n",
            "Iteration: 10\n",
            "100% 429/429 [00:53<00:00,  8.09it/s]\n",
            " Loss: 2.29988029846134\n",
            " Auxiliary Loss: 0.693181574344635\n",
            "\n",
            "Plot Embedding...\n",
            "\n",
            "t-SNE Started... \n",
            "t-SNE done!\n",
            "Time elapsed: 109.7372784614563 seconds\n",
            "\n",
            "t-SNE Started... \n",
            "t-SNE done!\n",
            "Time elapsed: 201.18717670440674 seconds\n",
            "\n",
            "Evaluation...\n",
            "0.4957670150570532\n",
            "0.5099286526502776\n",
            "0.5127968648945362\n",
            "0.5158262229184413\n",
            "0.4689466512451478\n",
            "0.4492941638892734\n",
            "0.48856060260075757\n",
            "0.4875635441259822\n",
            "0.50602796587047\n",
            "Traceback (most recent call last):\n",
            "  File \"src/main.py\", line 52, in <module>\n",
            "    main()\n",
            "  File \"src/main.py\", line 49, in main\n",
            "    evaluate(args, graph)\n",
            "  File \"/content/src/utils.py\", line 100, in evaluate\n",
            "    nmi = train(X, y, ratio)\n",
            "  File \"/content/src/utils.py\", line 145, in train\n",
            "    X_train, X_test, y_train, y_test = train_test_split(X, y, test_size=test_ratio, random_state=36)\n",
            "  File \"/usr/local/lib/python3.7/dist-packages/sklearn/model_selection/_split.py\", line 2122, in train_test_split\n",
            "    default_test_size=0.25)\n",
            "  File \"/usr/local/lib/python3.7/dist-packages/sklearn/model_selection/_split.py\", line 1757, in _validate_shuffle_split\n",
            "    '(0, 1) range'.format(test_size, n_samples))\n",
            "ValueError: test_size=0.0 should be either positive and smaller than the number of samples 160 or a float in the (0, 1) range\n"
          ],
          "name": "stdout"
        }
      ]
    },
    {
      "cell_type": "code",
      "metadata": {
        "id": "qe_op955V4Wq"
      },
      "source": [
        ""
      ],
      "execution_count": null,
      "outputs": []
    }
  ]
}